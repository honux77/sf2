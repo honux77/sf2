{
 "cells": [
  {
   "cell_type": "code",
   "execution_count": 58,
   "id": "811faf25",
   "metadata": {},
   "outputs": [],
   "source": [
    "import os\n",
    "\n",
    "def enc(f):\n",
    "    print(\"convert \" + f)\n",
    "    m = \"\"\n",
    "    with open(f) as s:\n",
    "        m = s.read()\n",
    "    with open(f, \"w\", encoding=\"utf-8\") as s:\n",
    "        s.write(m)\n",
    "\n",
    "def changeEncoding(f):\n",
    "    if os.path.isdir(f):\n",
    "        files = os.listdir(f)\n",
    "        for sub in files:\n",
    "            fullname = os.path.join(f, sub)\n",
    "            changeEncoding(fullname)            \n",
    "    if os.path.isfile(f):        \n",
    "        ext = os.path.splitext(f)[1]\n",
    "        if \"htm\" in ext:\n",
    "            pass\n",
    "            # enc(f)"
   ]
  },
  {
   "cell_type": "code",
   "execution_count": 59,
   "id": "1326fc3b",
   "metadata": {},
   "outputs": [],
   "source": [
    "changeEncoding(\"./\")"
   ]
  },
  {
   "cell_type": "code",
   "execution_count": null,
   "id": "243faf14",
   "metadata": {},
   "outputs": [],
   "source": []
  }
 ],
 "metadata": {
  "kernelspec": {
   "display_name": "Python 3",
   "language": "python",
   "name": "python3"
  },
  "language_info": {
   "codemirror_mode": {
    "name": "ipython",
    "version": 3
   },
   "file_extension": ".py",
   "mimetype": "text/x-python",
   "name": "python",
   "nbconvert_exporter": "python",
   "pygments_lexer": "ipython3",
   "version": "3.8.5"
  }
 },
 "nbformat": 4,
 "nbformat_minor": 5
}
