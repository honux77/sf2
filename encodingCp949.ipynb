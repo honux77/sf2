{
 "cells": [
  {
   "cell_type": "code",
   "execution_count": 50,
   "id": "40859092",
   "metadata": {},
   "outputs": [],
   "source": [
    "import os\n",
    "\n",
    "def enc(f):\n",
    "    m = \"\"\n",
    "    with open(f) as s:\n",
    "        m = s.read()\n",
    "    with open(f, \"w\", encoding=\"utf-8\") as s:\n",
    "        s.write(m)\n",
    "\n",
    "def changeEncoding(f):\n",
    "    if os.path.isdir(f):\n",
    "        files = os.listdir(f)\n",
    "        for sub in files:\n",
    "            fullname = os.path.join(f, sub)\n",
    "            changeEncoding(fullname)            \n",
    "    if os.path.isfile(f):        \n",
    "        ext = os.path.splitext(f)[1]\n",
    "        if \"htm\" in ext:\n",
    "            print(\"find html: \" + f)\n",
    "            enc(f)"
   ]
  },
  {
   "cell_type": "code",
   "execution_count": 51,
   "id": "22c70a4e",
   "metadata": {},
   "outputs": [
    {
     "name": "stdout",
     "output_type": "stream",
     "text": [
      "find html: ./char.html\n",
      "find html: ./credit.html\n",
      "find html: ./faq.html\n",
      "find html: ./file\\1.html\n",
      "find html: ./file\\2.html\n",
      "find html: ./file\\3.html\n",
      "find html: ./file\\4.html\n",
      "find html: ./file\\5.html\n",
      "find html: ./file\\6.html\n",
      "find html: ./file\\7.htm\n",
      "find html: ./file\\8.htm\n",
      "find html: ./file\\a.html\n",
      "find html: ./file\\b.html\n",
      "find html: ./file\\c.htm\n",
      "find html: ./file\\d.htm\n",
      "find html: ./file\\e.htm\n",
      "find html: ./file\\e2.html\n",
      "find html: ./file\\epi.html\n",
      "find html: ./file\\f.htm\n",
      "find html: ./file\\f2.htm\n",
      "find html: ./file\\g.htm\n",
      "find html: ./file\\h.htm\n",
      "find html: ./file\\i.htm\n",
      "find html: ./file\\j.htm\n",
      "find html: ./file\\k.htm\n",
      "find html: ./file\\l.htm\n",
      "find html: ./file\\m.htm\n",
      "find html: ./file\\n.htm\n",
      "find html: ./file\\o.htm\n",
      "find html: ./file\\p.htm\n",
      "find html: ./file\\pro.html\n",
      "find html: ./file\\q.htm\n",
      "find html: ./file\\r.htm\n",
      "find html: ./file\\s.htm\n",
      "find html: ./file\\t.htm\n",
      "find html: ./file\\u.htm\n",
      "find html: ./file\\v.htm\n",
      "find html: ./file\\w.htm\n",
      "find html: ./file\\x.htm\n",
      "find html: ./file\\y.htm\n",
      "find html: ./file\\z.htm\n",
      "find html: ./file\\z0.htm\n",
      "find html: ./file\\z1.htm\n",
      "find html: ./file\\z2.htm\n",
      "find html: ./file\\z3.htm\n",
      "find html: ./file\\z4.htm\n",
      "find html: ./file\\z5.htm\n",
      "find html: ./file\\z6.htm\n",
      "find html: ./file\\z7.htm\n",
      "find html: ./file\\z8.htm\n",
      "find html: ./file\\z9.htm\n",
      "find html: ./file\\zz.htm\n",
      "find html: ./file\\zz0.htm\n",
      "find html: ./file\\zz1.htm\n",
      "find html: ./file\\zz2.htm\n",
      "find html: ./file\\zz3.htm\n",
      "find html: ./file\\zz4.htm\n",
      "find html: ./file\\zzz.htm\n",
      "find html: ./index.html\n",
      "find html: ./item.html\n",
      "find html: ./magic.html\n",
      "find html: ./mithril.html\n",
      "find html: ./play.html\n"
     ]
    }
   ],
   "source": [
    "changeEncoding(\"./\")"
   ]
  },
  {
   "cell_type": "code",
   "execution_count": null,
   "id": "3a28ff8b",
   "metadata": {},
   "outputs": [],
   "source": []
  }
 ],
 "metadata": {
  "kernelspec": {
   "display_name": "Python 3",
   "language": "python",
   "name": "python3"
  },
  "language_info": {
   "codemirror_mode": {
    "name": "ipython",
    "version": 3
   },
   "file_extension": ".py",
   "mimetype": "text/x-python",
   "name": "python",
   "nbconvert_exporter": "python",
   "pygments_lexer": "ipython3",
   "version": "3.8.5"
  }
 },
 "nbformat": 4,
 "nbformat_minor": 5
}
